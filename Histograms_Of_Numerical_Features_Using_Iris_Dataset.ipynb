{
 "cells": [
  {
   "cell_type": "code",
   "execution_count": null,
   "id": "9f13c538-6380-4e6f-9e37-e5d585d20962",
   "metadata": {},
   "outputs": [],
   "source": []
  }
 ],
 "metadata": {
  "kernelspec": {
   "display_name": "",
   "name": ""
  },
  "language_info": {
   "name": ""
  }
 },
 "nbformat": 4,
 "nbformat_minor": 5
}
