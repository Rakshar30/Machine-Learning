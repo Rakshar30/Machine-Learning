{
 "cells": [
  {
   "cell_type": "code",
   "execution_count": 3,
   "id": "b075fe8a-a2d9-4913-82b9-626d53ff909e",
   "metadata": {},
   "outputs": [
    {
     "name": "stdout",
     "output_type": "stream",
     "text": [
      "Data set is --- \n",
      "\n",
      "   sl.no    sky airtemp humidity    wind water forecast enjoysport\n",
      "0      0  sunny    warm   normal  strong  warm     same        yes\n",
      "1      1  sunny    warm     high  strong  warm     same        yes\n",
      "2      2   rain    cold     high  strong  warm     same         no\n",
      "3      3  sunny    warm     high  strong  cool   change        yes\n",
      "\n",
      "The most specific hypothesis : ['0', '0', '0', '0', '0', '0']\n",
      "\n",
      "Iteration 0 : [0 'sunny' 'warm' 'normal' 'strong' 'warm' 'same']\n",
      "Iteration 1 : ['?' 'sunny' 'warm' '?' 'strong' 'warm' 'same']\n",
      "Iteration 3 : ['?' 'sunny' 'warm' '?' 'strong' '?' '?']\n",
      "\n",
      "Maximally specific hypothesis is \n",
      " ['?' 'sunny' 'warm' '?' 'strong' '?' '?']\n"
     ]
    }
   ],
   "source": [
    "import numpy as np\n",
    "import pandas as pd\n",
    "data = pd.read_csv(\"C:/Users/ASUS/Downloads/daatdset.csv\")\n",
    "print(\"Data set is --- \\n\")\n",
    "print(data)\n",
    "concepts = np.array(data.iloc[:,0:-1])\n",
    "target = np.array(data.iloc[:,-1])\n",
    "print(\"\\nThe most specific hypothesis : ['0', '0', '0', '0', '0', '0']\\n\")\n",
    "for i, val in enumerate (target) :\n",
    "    if val == \"yes\" :\n",
    "        specific_h = concepts[i]\n",
    "        break\n",
    "for i, h in enumerate (concepts) :\n",
    "    if target[i] == \"yes\" :\n",
    "        for x in range(len(specific_h)) :\n",
    "            if h[x] == specific_h[x] :\n",
    "                pass\n",
    "            else :\n",
    "                specific_h[x] = \"?\"\n",
    "        print(f\"Iteration {i} : {specific_h}\")\n",
    "print(\"\\nMaximally specific hypothesis is \\n\", specific_h)"
   ]
  },
  {
   "cell_type": "code",
   "execution_count": null,
   "id": "8d69adcf-6475-4bf6-9b0d-05c64691637e",
   "metadata": {},
   "outputs": [],
   "source": []
  }
 ],
 "metadata": {
  "kernelspec": {
   "display_name": "Python 3 (ipykernel)",
   "language": "python",
   "name": "python3"
  },
  "language_info": {
   "codemirror_mode": {
    "name": "ipython",
    "version": 3
   },
   "file_extension": ".py",
   "mimetype": "text/x-python",
   "name": "python",
   "nbconvert_exporter": "python",
   "pygments_lexer": "ipython3",
   "version": "3.13.2"
  }
 },
 "nbformat": 4,
 "nbformat_minor": 5
}
